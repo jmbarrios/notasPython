{
 "metadata": {
  "name": ""
 },
 "nbformat": 3,
 "nbformat_minor": 0,
 "worksheets": [
  {
   "cells": [
    {
     "cell_type": "markdown",
     "metadata": {
      "slideshow": {
       "slide_type": "slide"
      }
     },
     "source": [
      "# Introducci\u00f3n a Python\n",
      "### Juan M. Barrios\n",
      "#### CSC \n",
      "#### FC, UNAM"
     ]
    },
    {
     "cell_type": "markdown",
     "metadata": {
      "slideshow": {
       "slide_type": "slide"
      }
     },
     "source": [
      "# \u00bfQu\u00e9 es Python?\n",
      "- Python es un lenguaje intepretado... _traducci\u00f3n_ no necesita ser compilado y puede ser interactivo\n",
      "- Generalmente se piensa a Python como un lenguaje para _scripts_ o peque\u00f1as tareas, la realidad es que se puede decir que Python es un lenguaje [_\u00c1gil_](http://c2.com/cgi/wiki?AgileLanguage)\n",
      "- Tambi\u00e9n se dice que Python tiene baterias incluidas ya que puedes hacer muchas cosas con poco esfuerzo, desde _webapps_ hasta encontrar lo eigenvalores de un matriz\n",
      "- Python es un lenguaje orientado a objetos... todo en Python es un objeto (despu\u00e9s veremos que quiere decir esto)"
     ]
    },
    {
     "cell_type": "markdown",
     "metadata": {
      "slideshow": {
       "slide_type": "subslide"
      }
     },
     "source": [
      "# \u00bfQu\u00e9 esperar de este curso?\n",
      "\n",
      "- Aprender la sintaxis b\u00e1sica de Python\n",
      "- Conocer los tipos de datos nativos y sus usos m\u00e1s com\u00fanes\n",
      "- Aprender que es un objeto y c\u00f3mo crearlo en Python\n",
      "- Control de flujo en Python\n",
      "- Escribir Python..._Python no es C++ o Java"
     ]
    },
    {
     "cell_type": "markdown",
     "metadata": {
      "slideshow": {
       "slide_type": "subslide"
      }
     },
     "source": [
      "# Entender un poco de que va Python"
     ]
    },
    {
     "cell_type": "code",
     "collapsed": false,
     "input": [
      "import this"
     ],
     "language": "python",
     "metadata": {
      "slideshow": {
       "slide_type": "-"
      }
     },
     "outputs": [
      {
       "output_type": "stream",
       "stream": "stdout",
       "text": [
        "The Zen of Python, by Tim Peters\n",
        "\n",
        "Beautiful is better than ugly.\n",
        "Explicit is better than implicit.\n",
        "Simple is better than complex.\n",
        "Complex is better than complicated.\n",
        "Flat is better than nested.\n",
        "Sparse is better than dense.\n",
        "Readability counts.\n",
        "Special cases aren't special enough to break the rules.\n",
        "Although practicality beats purity.\n",
        "Errors should never pass silently.\n",
        "Unless explicitly silenced.\n",
        "In the face of ambiguity, refuse the temptation to guess.\n",
        "There should be one-- and preferably only one --obvious way to do it.\n",
        "Although that way may not be obvious at first unless you're Dutch.\n",
        "Now is better than never.\n",
        "Although never is often better than *right* now.\n",
        "If the implementation is hard to explain, it's a bad idea.\n",
        "If the implementation is easy to explain, it may be a good idea.\n",
        "Namespaces are one honking great idea -- let's do more of those!\n"
       ]
      }
     ],
     "prompt_number": 1
    },
    {
     "cell_type": "markdown",
     "metadata": {
      "slideshow": {
       "slide_type": "slide"
      }
     },
     "source": [
      "# \u00bfQu\u00e9 quiere decir _Readability counts_?\n",
      "\n",
      "    import math\n",
      "    class x:\n",
      "        def __init__(self,x=0,y=0):\n",
      "            self.x=x\n",
      "            self.y=y\n",
      "        def f(self, p):\n",
      "            return math.sqrt((self.x-p.x)**2+(self.y-p.y)**2)\n",
      "        \n",
      "                "
     ]
    },
    {
     "cell_type": "markdown",
     "metadata": {
      "slideshow": {
       "slide_type": "subslide"
      }
     },
     "source": [
      "# Ahora se entender\u00e1\n",
      "\n",
      "    import math\n",
      "   \n",
      "   \n",
      "    class punto2D:\n",
      "        ''' Clase para crear puntos dos dimensionales'''\n",
      "        \n",
      "        def __init__(self, x=0, y=0):\n",
      "            self.x = x\n",
      "            self.y = y\n",
      "        \n",
      "        def distancia_a(self, punto):\n",
      "            dx = self.x-punto.x\n",
      "            dy = self.y-punto.y\n",
      "            return math.sqrt(dx**2+dy**2)"
     ]
    }
   ],
   "metadata": {}
  }
 ]
}